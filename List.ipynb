{
 "cells": [
  {
   "cell_type": "code",
   "execution_count": 1,
   "id": "2a3aec1a",
   "metadata": {},
   "outputs": [
    {
     "name": "stdout",
     "output_type": "stream",
     "text": [
      "The black turtle is winner\n",
      "Time: 0\n"
     ]
    }
   ],
   "source": [
    "import turtle as t\n",
    "import random\n",
    "import datetime\n",
    "\n",
    "\n",
    "# Tạo khung cảnh và vẽ các cột mốc bên trái đường đua\n",
    "screen = t.Screen()\n",
    "screen.setup(height=500, width=600)\n",
    "pen = t.Turtle(visible=False)\n",
    "pen.penup()\n",
    "pen.speed(10)\n",
    "pen.goto(-250, 200)\n",
    "for i in range(21):\n",
    "    pen.write(i)\n",
    "    pen.forward(25)\n",
    "\n",
    "# Vẽ các đường đứt đoạn trên đường đua và\n",
    "# đánh dấu các cột mốc bên phải đường đua\n",
    "x = -250\n",
    "pen.goto(-250, 200)\n",
    "pen.right(90)\n",
    "for i in range(21):\n",
    "    for j in range(10):\n",
    "        pen.pendown()\n",
    "        pen.forward(20)\n",
    "        pen.penup()\n",
    "        pen.forward(10)\n",
    "    pen.penup()\n",
    "    pen.forward(5)\n",
    "    pen.write(i)\n",
    "    pen.goto(x + (i + 1) * 25, 200)\n",
    "all_turtles = []\n",
    "y_position = [160, 100, 40, -20]\n",
    "colors = ['red', 'green', 'blue', 'black']\n",
    "for turtle in range(0, 4):\n",
    "    turtles = t.Turtle(shape=\"turtle\")\n",
    "    turtles.penup()\n",
    "    # Di chuyển rùa về vị trí ban đầu,\n",
    "    # bên trái cùng của đường đua\n",
    "    turtles.goto(x=-250, y=y_position[turtle])\n",
    "    # Màu của rùa\n",
    "    turtles.color(colors[turtle])\n",
    "    for i in range(5):\n",
    "        turtles.left(72)\n",
    "    # Lưu vào list\n",
    "    all_turtles.append(turtles)\n",
    "\n",
    "def random_walk(turtles):\n",
    "    global run\n",
    "    start_time = datetime.datetime.now()\n",
    "    for j in range (0,len(turtles)):\n",
    "        turtles[j].forward(random.randint(1, 10))\n",
    "        # Kiểm tra điều kiện cán đích\n",
    "        # Khi 1 con cán đích thì dừng lại\n",
    "        if turtles[j].xcor() > 250:\n",
    "            run = False\n",
    "            end_time = datetime.datetime.now()\n",
    "            for i in range(30):\n",
    "                screen.bgcolor(colors[j])\n",
    "                screen.bgcolor('white')\n",
    "                screen.bgcolor(colors[j])\n",
    "            print(f'The {colors[j]} turtle is winner')\n",
    "            print(f'Time: {abs(end_time - start_time).seconds}')\n",
    "            break\n",
    "run = True\n",
    "while run:\n",
    "    random_walk(all_turtles)\n",
    "screen.exitonclick()"
   ]
  },
  {
   "cell_type": "code",
   "execution_count": 5,
   "id": "2c5a3ac7",
   "metadata": {},
   "outputs": [
    {
     "name": "stdout",
     "output_type": "stream",
     "text": [
      "Max: 345,min: -32\n"
     ]
    }
   ],
   "source": [
    "#Tìm hai số lớn nhất của list vừa tạo được:\n",
    "ds = [2,3,234,12,345,-32,0]\n",
    "Mnum = ds[0]\n",
    "mnum = ds[0]\n",
    "if len(ds)<2:\n",
    "    print('Error!')\n",
    "else:\n",
    "    for i in ds:\n",
    "        if i>=Mnum:\n",
    "            Mnum = i\n",
    "        if i<=mnum:\n",
    "            mnum = i\n",
    "    print(f'Max: {Mnum},min: {mnum}')"
   ]
  },
  {
   "cell_type": "code",
   "execution_count": null,
   "id": "a291d8ed",
   "metadata": {},
   "outputs": [],
   "source": []
  }
 ],
 "metadata": {
  "kernelspec": {
   "display_name": "Python 3 (ipykernel)",
   "language": "python",
   "name": "python3"
  },
  "language_info": {
   "codemirror_mode": {
    "name": "ipython",
    "version": 3
   },
   "file_extension": ".py",
   "mimetype": "text/x-python",
   "name": "python",
   "nbconvert_exporter": "python",
   "pygments_lexer": "ipython3",
   "version": "3.9.13"
  }
 },
 "nbformat": 4,
 "nbformat_minor": 5
}
